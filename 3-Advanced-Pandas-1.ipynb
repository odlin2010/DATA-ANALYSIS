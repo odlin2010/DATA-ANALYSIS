{
 "cells": [
  {
   "cell_type": "markdown",
   "metadata": {},
   "source": [
    "# Advanced Pandas - 1\n",
    "- Sorting\n",
    "    - sort by index\n",
    "    - sort by column\n",
    "- Filtering\n",
    "    - Boolean indexing\n",
    "    - ```isin()```\n",
    "- Grouping"
   ]
  },
  {
   "cell_type": "code",
   "execution_count": null,
   "metadata": {
    "collapsed": true
   },
   "outputs": [],
   "source": [
    "import pandas as pd\n",
    "import numpy as np"
   ]
  },
  {
   "cell_type": "markdown",
   "metadata": {},
   "source": [
    "## 1. Sorting\n",
    "- ```sort_index()```: sort by index\n",
    "- ```sort_values()```: sort by specific column(s)"
   ]
  },
  {
   "cell_type": "markdown",
   "metadata": {},
   "source": [
    "### Sort by index"
   ]
  },
  {
   "cell_type": "code",
   "execution_count": null,
   "metadata": {
    "collapsed": true
   },
   "outputs": [],
   "source": [
    "idx = np.random.randint(0, 10, 10)   # create random index\n",
    "col1 = np.random.randint(0, 10, 10)\n",
    "col2 = np.random.randint(0, 10, 10)\n",
    "col3 = np.random.randint(0, 10, 10)\n",
    "\n",
    "df = pd.DataFrame({'col1': col1, 'col2': col2, 'col3': col3}, index = idx)\n",
    "print(df)"
   ]
  },
  {
   "cell_type": "code",
   "execution_count": null,
   "metadata": {
    "collapsed": true
   },
   "outputs": [],
   "source": [
    "df.sort_index()       # sorts in ascending order by default"
   ]
  },
  {
   "cell_type": "code",
   "execution_count": null,
   "metadata": {
    "collapsed": true
   },
   "outputs": [],
   "source": [
    "df.sort_index(axis = 1)       # note that this performs column-sorting (no difference here)"
   ]
  },
  {
   "cell_type": "code",
   "execution_count": null,
   "metadata": {
    "collapsed": true
   },
   "outputs": [],
   "source": [
    "df.sort_index(ascending = False)     # sort in descending order"
   ]
  },
  {
   "cell_type": "markdown",
   "metadata": {},
   "source": [
    "### Sort by columns"
   ]
  },
  {
   "cell_type": "code",
   "execution_count": null,
   "metadata": {
    "collapsed": true
   },
   "outputs": [],
   "source": [
    "df.sort_values(by = 'col1')     # sort values by values in col1"
   ]
  },
  {
   "cell_type": "code",
   "execution_count": null,
   "metadata": {
    "collapsed": true
   },
   "outputs": [],
   "source": [
    "df.sort_values(by = ['col1', 'col2'])     # first sort by col1, then by col2"
   ]
  },
  {
   "cell_type": "code",
   "execution_count": null,
   "metadata": {
    "collapsed": true
   },
   "outputs": [],
   "source": [
    "df.sort_values(by = ['col1', 'col2'], ascending = [True, False])"
   ]
  },
  {
   "cell_type": "markdown",
   "metadata": {},
   "source": [
    "### Example : ```Glass ``` dataset"
   ]
  },
  {
   "cell_type": "code",
   "execution_count": null,
   "metadata": {
    "collapsed": true
   },
   "outputs": [],
   "source": [
    "# designating column names\n",
    "# each element in col_names list is set to each column name\n",
    "col_names = ['RI', 'Na', 'Mg', 'Al', 'Si', 'K', 'Ca', 'Ba', 'Fe', 'Type']\n",
    "df = pd.read_csv('glass.csv', header = None, index_col = 0, names = col_names)\n",
    "print(df.head())\n",
    "print(df.columns)\n",
    "print(df.index)\n",
    "print(df.shape)"
   ]
  },
  {
   "cell_type": "code",
   "execution_count": null,
   "metadata": {
    "collapsed": true,
    "scrolled": true
   },
   "outputs": [],
   "source": [
    "# sort df by 'RI'\n",
    "df.sort_values(by = 'RI')"
   ]
  },
  {
   "cell_type": "code",
   "execution_count": null,
   "metadata": {
    "collapsed": true,
    "scrolled": true
   },
   "outputs": [],
   "source": [
    "# first sort by 'Type', then by 'Na'\n",
    "df.sort_values(by = ['Type', 'Na'], ascending = [False, True])"
   ]
  },
  {
   "cell_type": "markdown",
   "metadata": {},
   "source": [
    "## 2. Filtering"
   ]
  },
  {
   "cell_type": "markdown",
   "metadata": {},
   "source": [
    "### Boolean indexing\n",
    "- Boolean indexing enables selecting only values that satisfy certain conditions"
   ]
  },
  {
   "cell_type": "code",
   "execution_count": null,
   "metadata": {
    "collapsed": true
   },
   "outputs": [],
   "source": [
    "idx = np.arange(10)\n",
    "col1 = np.random.randint(-10, 10, 10)\n",
    "col2 = np.random.randint(-10, 10, 10)\n",
    "col3 = np.random.randint(-10, 10, 10)\n",
    "\n",
    "df = pd.DataFrame({'col1': col1, 'col2': col2, 'col3': col3}, index = idx)\n",
    "print(df)"
   ]
  },
  {
   "cell_type": "code",
   "execution_count": null,
   "metadata": {
    "collapsed": true
   },
   "outputs": [],
   "source": [
    "# selecting only positive values\n",
    "# non-positive values are converted into 'NaN'\n",
    "df[df > 0]"
   ]
  },
  {
   "cell_type": "code",
   "execution_count": null,
   "metadata": {
    "collapsed": true
   },
   "outputs": [],
   "source": [
    "# selecting values over 4\n",
    "df[df > 4.0]"
   ]
  },
  {
   "cell_type": "code",
   "execution_count": null,
   "metadata": {
    "collapsed": true
   },
   "outputs": [],
   "source": [
    "# using column's values to select rows\n",
    "# rows that satisfy certain condition are selected\n",
    "df[df.col1 > 0]"
   ]
  },
  {
   "cell_type": "markdown",
   "metadata": {
    "collapsed": true
   },
   "source": [
    "### ```isin()```\n",
    "- ```isin()``` returns ```boolean``` vector \n",
    "    - if value satisfies certain condition, returns ```True```\n",
    "    - if not, returns ```False```"
   ]
  },
  {
   "cell_type": "code",
   "execution_count": null,
   "metadata": {
    "collapsed": true,
    "scrolled": true
   },
   "outputs": [],
   "source": [
    "df.col1.isin([1.0, 2.0, 3.0, 4.0, 5.0])"
   ]
  },
  {
   "cell_type": "code",
   "execution_count": null,
   "metadata": {
    "collapsed": true
   },
   "outputs": [],
   "source": [
    "# filtering rows with isin()\n",
    "df[df.col1.isin([1.0, 2.0, 3.0, 4.0, 5.0])]"
   ]
  },
  {
   "cell_type": "code",
   "execution_count": null,
   "metadata": {
    "collapsed": true
   },
   "outputs": [],
   "source": [
    "col_names = ['RI', 'Na', 'Mg', 'Al', 'Si', 'K', 'Ca', 'Ba', 'Fe', 'Type']\n",
    "df = pd.read_csv('glass.csv', header = None, index_col = 0, names = col_names)\n",
    "print(df.head())"
   ]
  },
  {
   "cell_type": "code",
   "execution_count": null,
   "metadata": {
    "collapsed": true
   },
   "outputs": [],
   "source": [
    "# selecting rows with only Type 1, 2\n",
    "# then sort values by 'Ca'\n",
    "df_ = df[df.Type.isin([1, 2])]\n",
    "df_ = df_.sort_values(by = ['Type', 'Ca'])\n",
    "print(df_.head())\n",
    "print(df_.tail())"
   ]
  },
  {
   "cell_type": "markdown",
   "metadata": {},
   "source": [
    "## 3. Grouping"
   ]
  },
  {
   "cell_type": "code",
   "execution_count": null,
   "metadata": {
    "collapsed": true
   },
   "outputs": [],
   "source": [
    "# data can be grouped using groupby() function\n",
    "col_names = ['RI', 'Na', 'Mg', 'Al', 'Si', 'K', 'Ca', 'Ba', 'Fe', 'Type']\n",
    "df = pd.read_csv('glass.csv', header = None, index_col = 0, names = col_names)\n",
    "\n",
    "grouped = df.groupby('Type')\n",
    "print(grouped.head(2))       # note that 'head' for each group is extracted"
   ]
  },
  {
   "cell_type": "code",
   "execution_count": null,
   "metadata": {
    "collapsed": true,
    "scrolled": true
   },
   "outputs": [],
   "source": [
    "# statistics for each group can be calculated as well\n",
    "print(grouped.sum())\n",
    "print(grouped.mean())\n",
    "print(grouped.std())"
   ]
  },
  {
   "cell_type": "code",
   "execution_count": null,
   "metadata": {
    "collapsed": true,
    "scrolled": true
   },
   "outputs": [],
   "source": [
    "# note that groupby() can be applied to many columns as well\n",
    "grouped = df.groupby(['Type', 'Fe'])\n",
    "print(grouped.head())"
   ]
  },
  {
   "cell_type": "markdown",
   "metadata": {},
   "source": [
    "### Exercise 3-1.\n",
    "- Import ```CPU.xlsx``` as DataFrame\n",
    "- Sort values by ```MMIN``` and ```MMAX``` with ascending setting as ```False``` and ```True```, respectively\n",
    "- Groupby vendor name and calculate average of other columns by groups"
   ]
  },
  {
   "cell_type": "code",
   "execution_count": null,
   "metadata": {
    "collapsed": true
   },
   "outputs": [],
   "source": [
    "## Your answer"
   ]
  }
 ],
 "metadata": {
  "kernelspec": {
   "display_name": "Python 3",
   "language": "python",
   "name": "python3"
  },
  "language_info": {
   "codemirror_mode": {
    "name": "ipython",
    "version": 3
   },
   "file_extension": ".py",
   "mimetype": "text/x-python",
   "name": "python",
   "nbconvert_exporter": "python",
   "pygments_lexer": "ipython3",
   "version": "3.7.1"
  }
 },
 "nbformat": 4,
 "nbformat_minor": 2
}
