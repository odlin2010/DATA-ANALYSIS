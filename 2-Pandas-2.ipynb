{
 "cells": [
  {
   "cell_type": "markdown",
   "metadata": {},
   "source": [
    "# Pandas Primer - 2\n",
    "- Reading files\n",
    "    - CSV files\n",
    "    - Excel files\n",
    "    - URL\n",
    "- Exporting data\n",
    "- Exploring data\n",
    "    - Summarizing data\n",
    "    - Visualizing data"
   ]
  },
  {
   "cell_type": "code",
   "execution_count": 1,
   "metadata": {
    "collapsed": true
   },
   "outputs": [],
   "source": [
    "import pandas as pd"
   ]
  },
  {
   "cell_type": "markdown",
   "metadata": {},
   "source": [
    "## 1. Reading files\n",
    "- Pandas supports reading files from diverse source\n",
    "    - CSV file\n",
    "    - Excel file\n",
    "    - etc\n",
    "- Data in files are saved as DataFrame"
   ]
  },
  {
   "cell_type": "markdown",
   "metadata": {},
   "source": [
    "### CSV files\n",
    "- CSV files can be read using ```read_csv()``` function"
   ]
  },
  {
   "cell_type": "code",
   "execution_count": 2,
   "metadata": {},
   "outputs": [
    {
     "name": "stdout",
     "output_type": "stream",
     "text": [
      "   1  1.52101  13.64  4.49  1.10  71.78  0.06  8.75  0.00  0.00.1  1.1\n",
      "0  2  1.51761  13.89  3.60  1.36  72.73  0.48  7.83   0.0    0.00    1\n",
      "1  3  1.51618  13.53  3.55  1.54  72.99  0.39  7.78   0.0    0.00    1\n",
      "2  4  1.51766  13.21  3.69  1.29  72.61  0.57  8.22   0.0    0.00    1\n",
      "3  5  1.51742  13.27  3.62  1.24  73.08  0.55  8.07   0.0    0.00    1\n",
      "4  6  1.51596  12.79  3.61  1.62  72.97  0.64  8.07   0.0    0.26    1\n",
      "Index(['1', '1.52101', '13.64', '4.49', '1.10', '71.78', '0.06', '8.75',\n",
      "       '0.00', '0.00.1', '1.1'],\n",
      "      dtype='object')\n",
      "RangeIndex(start=0, stop=213, step=1)\n",
      "(213, 11)\n"
     ]
    }
   ],
   "source": [
    "# reading csv file\n",
    "# with default parameter settings, index is set [0, 1, ... , n-1] (when there are n rows)\n",
    "# first row is used as header (column names)\n",
    "df = pd.read_csv('glass.csv')\n",
    "print(df.head())\n",
    "print(df.columns)\n",
    "print(df.index)\n",
    "print(df.shape)"
   ]
  },
  {
   "cell_type": "code",
   "execution_count": 3,
   "metadata": {},
   "outputs": [
    {
     "name": "stdout",
     "output_type": "stream",
     "text": [
      "        1      2     3     4      5     6     7    8    9   10\n",
      "0                                                             \n",
      "1  1.52101  13.64  4.49  1.10  71.78  0.06  8.75  0.0  0.0   1\n",
      "2  1.51761  13.89  3.60  1.36  72.73  0.48  7.83  0.0  0.0   1\n",
      "3  1.51618  13.53  3.55  1.54  72.99  0.39  7.78  0.0  0.0   1\n",
      "4  1.51766  13.21  3.69  1.29  72.61  0.57  8.22  0.0  0.0   1\n",
      "5  1.51742  13.27  3.62  1.24  73.08  0.55  8.07  0.0  0.0   1\n",
      "Int64Index([1, 2, 3, 4, 5, 6, 7, 8, 9, 10], dtype='int64')\n",
      "Int64Index([  1,   2,   3,   4,   5,   6,   7,   8,   9,  10,\n",
      "            ...\n",
      "            205, 206, 207, 208, 209, 210, 211, 212, 213, 214],\n",
      "           dtype='int64', name=0, length=214)\n",
      "(214, 10)\n"
     ]
    }
   ],
   "source": [
    "# reading csv file with parameter settings\n",
    "# header is set to None => use arbitray column names, not first row\n",
    "# use first column as index (IDs from 1 to n)\n",
    "df = pd.read_csv('glass.csv', header = None, index_col = 0)\n",
    "print(df.head())\n",
    "print(df.columns)\n",
    "print(df.index)\n",
    "print(df.shape)"
   ]
  },
  {
   "cell_type": "code",
   "execution_count": 4,
   "metadata": {},
   "outputs": [
    {
     "name": "stdout",
     "output_type": "stream",
     "text": [
      "        RI     Na    Mg    Al     Si     K    Ca   Ba   Fe  Type\n",
      "1  1.52101  13.64  4.49  1.10  71.78  0.06  8.75  0.0  0.0     1\n",
      "2  1.51761  13.89  3.60  1.36  72.73  0.48  7.83  0.0  0.0     1\n",
      "3  1.51618  13.53  3.55  1.54  72.99  0.39  7.78  0.0  0.0     1\n",
      "4  1.51766  13.21  3.69  1.29  72.61  0.57  8.22  0.0  0.0     1\n",
      "5  1.51742  13.27  3.62  1.24  73.08  0.55  8.07  0.0  0.0     1\n",
      "Index(['RI', 'Na', 'Mg', 'Al', 'Si', 'K', 'Ca', 'Ba', 'Fe', 'Type'], dtype='object')\n",
      "Int64Index([  1,   2,   3,   4,   5,   6,   7,   8,   9,  10,\n",
      "            ...\n",
      "            205, 206, 207, 208, 209, 210, 211, 212, 213, 214],\n",
      "           dtype='int64', length=214)\n",
      "(214, 10)\n"
     ]
    }
   ],
   "source": [
    "# designating column names\n",
    "# each element in col_names list is set to each column name\n",
    "col_names = ['RI', 'Na', 'Mg', 'Al', 'Si', 'K', 'Ca', 'Ba', 'Fe', 'Type']\n",
    "df = pd.read_csv('glass.csv', header = None, index_col = 0, names = col_names)\n",
    "print(df.head())\n",
    "print(df.columns)\n",
    "print(df.index)\n",
    "print(df.shape)"
   ]
  },
  {
   "cell_type": "markdown",
   "metadata": {},
   "source": [
    "### Excel files\n",
    "- Excel files(```.xlsx``` or ```.xls```) can be read using ```read_excel()``` function"
   ]
  },
  {
   "cell_type": "markdown",
   "metadata": {},
   "source": [
    "### CPU data\n",
    "- Relative performance of different CPUs\n",
    "- source: https://archive.ics.uci.edu/ml/machine-learning-databases/cpu-performance/\n",
    "- Number of instances (# rows): 209\n",
    "- Number of attributes (# cols): 10\n",
    "    - vendor name: adviser, amdahl,apollo, basf, bti, burroughs, c.r.d, cambex, cdc, dec, \n",
    "       dg, formation, four-phase, gould, honeywell, hp, ibm, ipl, magnuson, \n",
    "       microdata, nas, ncr, nixdorf, perkin-elmer, prime, siemens, sperry, \n",
    "       sratus, wang)\n",
    "    - Model Name : many unique symbols\n",
    "    - MYCT: machine cycle time in nanoseconds (integer)\n",
    "    - MMIN: minimum main memory in kilobytes (integer)\n",
    "    - MMAX: maximum main memory in kilobytes (integer)\n",
    "    - CACH: cache memory in kilobytes (integer)\n",
    "    - CHMIN: minimum channels in units (integer)\n",
    "    - CHMAX: maximum channels in units (integer)\n",
    "    - PRP: published relative performance (integer)\n",
    "    - ERP: estimated relative performance from the original article (integer)"
   ]
  },
  {
   "cell_type": "code",
   "execution_count": 5,
   "metadata": {},
   "outputs": [
    {
     "name": "stdout",
     "output_type": "stream",
     "text": [
      "  vendor_name model_name  MYCT  MMIN   MMAX  CACH  CHMIN  CHMAX  PRP  ERP\n",
      "0     adviser      32/60   125   256   6000   256     16    128  198  199\n",
      "1      amdahl     470v/7    29  8000  32000    32      8     32  269  253\n",
      "2      amdahl    470v/7a    29  8000  32000    32      8     32  220  253\n",
      "3      amdahl    470v/7b    29  8000  32000    32      8     32  172  253\n",
      "4      amdahl    470v/7c    29  8000  16000    32      8     16  132  132\n",
      "Index(['vendor_name', 'model_name', 'MYCT', 'MMIN', 'MMAX', 'CACH', 'CHMIN',\n",
      "       'CHMAX', 'PRP', 'ERP'],\n",
      "      dtype='object')\n",
      "RangeIndex(start=0, stop=209, step=1)\n",
      "(209, 10)\n"
     ]
    }
   ],
   "source": [
    "# reading excel file without parameter settings\n",
    "# note that first row is used as header as default\n",
    "df = pd.read_excel('cpu.xlsx')\n",
    "print(df.head())\n",
    "print(df.columns)\n",
    "print(df.index)\n",
    "print(df.shape)"
   ]
  },
  {
   "cell_type": "code",
   "execution_count": 6,
   "metadata": {},
   "outputs": [
    {
     "name": "stdout",
     "output_type": "stream",
     "text": [
      "  vendor_name model_name  MYCT  MMIN   MMAX  CACH  CHMIN  CHMAX  PRP  ERP\n",
      "0     adviser      32/60   125   256   6000   256     16    128  198  199\n",
      "1      amdahl     470v/7    29  8000  32000    32      8     32  269  253\n",
      "2      amdahl    470v/7a    29  8000  32000    32      8     32  220  253\n",
      "3      amdahl    470v/7b    29  8000  32000    32      8     32  172  253\n",
      "4      amdahl    470v/7c    29  8000  16000    32      8     16  132  132\n"
     ]
    }
   ],
   "source": [
    "# if there are several sheets, sheet_name parameter should be set\n",
    "df = pd.read_excel('cpu.xlsx', sheet_name = 'Sheet1')\n",
    "print(df.head())"
   ]
  },
  {
   "cell_type": "markdown",
   "metadata": {},
   "source": [
    "### Reading data from URL\n",
    "- Read data directly from URL using ```read_table()```, ```read_csv()```, or ```read_excel()``` \n",
    "    - Which function to use? *Depends on the situation*\n",
    "    - Try out all three of them, and satisfice when results are met\n",
    "- Valid URL schemes include ```http, ftp, s3```, and file"
   ]
  },
  {
   "cell_type": "code",
   "execution_count": 8,
   "metadata": {},
   "outputs": [
    {
     "name": "stdout",
     "output_type": "stream",
     "text": [
      "         0        1    2     3      4    5   6    7    8    9\n",
      "0  adviser    32/60  125   256   6000  256  16  128  198  199\n",
      "1   amdahl   470v/7   29  8000  32000   32   8   32  269  253\n",
      "2   amdahl  470v/7a   29  8000  32000   32   8   32  220  253\n",
      "3   amdahl  470v/7b   29  8000  32000   32   8   32  172  253\n",
      "4   amdahl  470v/7c   29  8000  16000   32   8   16  132  132\n"
     ]
    }
   ],
   "source": [
    "# using read_table() to read data from url\n",
    "df = pd.read_table('https://archive.ics.uci.edu/ml/machine-learning-databases/cpu-performance/machine.data' \\\n",
    "                  , sep = ',', header = None)\n",
    "print(df.head())"
   ]
  },
  {
   "cell_type": "code",
   "execution_count": 9,
   "metadata": {},
   "outputs": [
    {
     "name": "stdout",
     "output_type": "stream",
     "text": [
      "    Country  Region\n",
      "0   Algeria  AFRICA\n",
      "1    Angola  AFRICA\n",
      "2     Benin  AFRICA\n",
      "3  Botswana  AFRICA\n",
      "4   Burkina  AFRICA\n"
     ]
    }
   ],
   "source": [
    "# using read_csv() to read data from url\n",
    "url=\"https://raw.githubusercontent.com/cs109/2014_data/master/countries.csv\"\n",
    "df = pd.read_csv(url)\n",
    "print(df.head())"
   ]
  },
  {
   "cell_type": "markdown",
   "metadata": {},
   "source": [
    "## 2. Exporting data\n",
    "- Using Pandas, it is also convenient to export data "
   ]
  },
  {
   "cell_type": "code",
   "execution_count": 10,
   "metadata": {},
   "outputs": [
    {
     "name": "stdout",
     "output_type": "stream",
     "text": [
      "   float  int lower upper\n",
      "0    1.0    1     a     A\n",
      "1    2.0    2     b     B\n",
      "2    3.0    3     c     C\n",
      "3    4.0    4     d     D\n",
      "4    5.0    5     e     E\n"
     ]
    }
   ],
   "source": [
    "l1 = [1., 2., 3., 4., 5.]\n",
    "l2 = [1, 2, 3, 4, 5]\n",
    "l3 = ['a', 'b', 'c', 'd', 'e']\n",
    "l4 = ['A', 'B', 'C', 'D', 'E']\n",
    "df = pd.DataFrame({'float': l1, 'int': l2, 'lower': l3, 'upper': l4})\n",
    "print(df)"
   ]
  },
  {
   "cell_type": "code",
   "execution_count": 11,
   "metadata": {
    "collapsed": true
   },
   "outputs": [],
   "source": [
    "# saving CSV file\n",
    "df.to_csv('csv_example.csv')"
   ]
  },
  {
   "cell_type": "code",
   "execution_count": 12,
   "metadata": {
    "collapsed": true
   },
   "outputs": [],
   "source": [
    "# saving excel file\n",
    "df.to_excel('excel_example.xlsx')"
   ]
  },
  {
   "cell_type": "markdown",
   "metadata": {},
   "source": [
    "## 3. Exploring data\n",
    "- Pandas provides convenient ways to explore data"
   ]
  },
  {
   "cell_type": "markdown",
   "metadata": {},
   "source": [
    "### Summarizing data"
   ]
  },
  {
   "cell_type": "code",
   "execution_count": 13,
   "metadata": {},
   "outputs": [
    {
     "name": "stdout",
     "output_type": "stream",
     "text": [
      "  vendor_name model_name  MYCT  MMIN   MMAX  CACH  CHMIN  CHMAX  PRP  ERP\n",
      "0     adviser      32/60   125   256   6000   256     16    128  198  199\n",
      "1      amdahl     470v/7    29  8000  32000    32      8     32  269  253\n",
      "2      amdahl    470v/7a    29  8000  32000    32      8     32  220  253\n",
      "3      amdahl    470v/7b    29  8000  32000    32      8     32  172  253\n",
      "4      amdahl    470v/7c    29  8000  16000    32      8     16  132  132\n",
      "    vendor_name           model_name  MYCT  MMIN  MMAX  CACH  CHMIN  CHMAX  \\\n",
      "204      sperry  1980-08-01 00:00:00   124  1000  8000     0      1      8   \n",
      "205      sperry        90/80-model-3    98  1000  8000    32      2      8   \n",
      "206      sratus                   32   125  2000  8000     0      2     14   \n",
      "207        wang               vs-100   480   512  8000    32      0      0   \n",
      "208        wang                vs-90   480  1000  4000     0      0      0   \n",
      "\n",
      "     PRP  ERP  \n",
      "204   42   37  \n",
      "205   46   50  \n",
      "206   52   41  \n",
      "207   67   47  \n",
      "208   45   25  \n"
     ]
    }
   ],
   "source": [
    "# we keep our example with CPU data\n",
    "df = pd.read_excel('cpu.xlsx')\n",
    "print(df.head())       # first 5 rows\n",
    "print(df.tail())       # last 5 rows"
   ]
  },
  {
   "cell_type": "code",
   "execution_count": 14,
   "metadata": {},
   "outputs": [
    {
     "name": "stdout",
     "output_type": "stream",
     "text": [
      "              MYCT          MMIN          MMAX        CACH       CHMIN  \\\n",
      "count   209.000000    209.000000    209.000000  209.000000  209.000000   \n",
      "mean    203.822967   2867.980861  11796.153110   25.205742    4.698565   \n",
      "std     260.262926   3878.742758  11726.564377   40.628722    6.816274   \n",
      "min      17.000000     64.000000     64.000000    0.000000    0.000000   \n",
      "25%      50.000000    768.000000   4000.000000    0.000000    1.000000   \n",
      "50%     110.000000   2000.000000   8000.000000    8.000000    2.000000   \n",
      "75%     225.000000   4000.000000  16000.000000   32.000000    6.000000   \n",
      "max    1500.000000  32000.000000  64000.000000  256.000000   52.000000   \n",
      "\n",
      "            CHMAX          PRP          ERP  \n",
      "count  209.000000   209.000000   209.000000  \n",
      "mean    18.267943   105.622010    99.330144  \n",
      "std     25.997318   160.830733   154.757102  \n",
      "min      0.000000     6.000000    15.000000  \n",
      "25%      5.000000    27.000000    28.000000  \n",
      "50%      8.000000    50.000000    45.000000  \n",
      "75%     24.000000   113.000000   101.000000  \n",
      "max    176.000000  1150.000000  1238.000000  \n"
     ]
    }
   ],
   "source": [
    "# summarizing whole DataFrame\n",
    "# columns with numerical values are described\n",
    "print(df.describe())"
   ]
  },
  {
   "cell_type": "code",
   "execution_count": 15,
   "metadata": {},
   "outputs": [
    {
     "name": "stdout",
     "output_type": "stream",
     "text": [
      "count     209.000000\n",
      "mean      203.822967\n",
      "std       260.262926\n",
      "min        17.000000\n",
      "25%        50.000000\n",
      "50%       110.000000\n",
      "75%       225.000000\n",
      "max      1500.000000\n",
      "Name: MYCT, dtype: float64\n"
     ]
    }
   ],
   "source": [
    "# describing only one column at a time\n",
    "print(df['MYCT'].describe())"
   ]
  },
  {
   "cell_type": "markdown",
   "metadata": {},
   "source": [
    "### Visualizing data"
   ]
  },
  {
   "cell_type": "code",
   "execution_count": 16,
   "metadata": {},
   "outputs": [
    {
     "data": {
      "image/png": "[encoded data removed]",
      "text/plain": [
       "<matplotlib.figure.Figure at 0x27ad4dfd2b0>"
      ]
     },
     "metadata": {},
     "output_type": "display_data"
    }
   ],
   "source": [
    "# plotting dataset\n",
    "import matplotlib.pyplot as plt\n",
    "df.plot()\n",
    "plt.show()"
   ]
  },
  {
   "cell_type": "code",
   "execution_count": 17,
   "metadata": {},
   "outputs": [
    {
     "data": {
      "image/png": "[encoded data removed]",
      "text/plain": [
       "<matplotlib.figure.Figure at 0x27ad53fdfd0>"
      ]
     },
     "metadata": {},
     "output_type": "display_data"
    }
   ],
   "source": [
    "# plotting variable (column)\n",
    "df['MYCT'].plot()\n",
    "plt.show()"
   ]
  },
  {
   "cell_type": "code",
   "execution_count": null,
   "metadata": {
    "collapsed": true
   },
   "outputs": [],
   "source": [
    "# plotting multiple columns at a time\n",
    "df[['MYCT', 'CACH']].plot(kind = 'scatter')\n",
    "plt.show()"
   ]
  },
  {
   "cell_type": "code",
   "execution_count": 19,
   "metadata": {},
   "outputs": [
    {
     "data": {
      "image/png": "[encoded data removed]",
      "text/plain": [
       "<matplotlib.figure.Figure at 0x27ad76b5160>"
      ]
     },
     "metadata": {},
     "output_type": "display_data"
    }
   ],
   "source": [
    "# what about categorical variables?\n",
    "counts = df['vendor_name'].value_counts()\n",
    "counts.plot(kind = 'bar')\n",
    "plt.show()"
   ]
  },
  {
   "cell_type": "markdown",
   "metadata": {},
   "source": [
    "### Exercise 2-1.\n",
    "- Import dataset as DataFrame in below URL, by three methods\n",
    "    - Export directly via URL\n",
    "    - Save dataset as CSV file, and import\n",
    "    - Save dataset as Excel file, and import\n",
    "- URL: https://archive.ics.uci.edu/ml/machine-learning-databases/auto-mpg/auto-mpg.data"
   ]
  },
  {
   "cell_type": "code",
   "execution_count": null,
   "metadata": {
    "collapsed": true
   },
   "outputs": [],
   "source": [
    "## Your answer"
   ]
  },
  {
   "cell_type": "markdown",
   "metadata": {},
   "source": [
    "### Exercise 2-2.\n",
    "- Describe first three variables (columns) of dataset imported above\n",
    "- Plot three variables \n",
    "- Count number of instances in last column (car name), and identify which car names occurs most frequently"
   ]
  },
  {
   "cell_type": "code",
   "execution_count": null,
   "metadata": {
    "collapsed": true
   },
   "outputs": [],
   "source": [
    "## Your answer"
   ]
  },
  {
   "cell_type": "markdown",
   "metadata": {},
   "source": [
    "### Exercise 2-3.\n",
    "- Convert above DataFrame into NumPy array (excluding last column)\n",
    "- Compute average and standard deviation of each column\n",
    "     - use ```mean()``` and ```std()``` functions\n",
    "- Perform same action to original DataFrame\n",
    "    - Are the results identical?"
   ]
  },
  {
   "cell_type": "code",
   "execution_count": null,
   "metadata": {
    "collapsed": true
   },
   "outputs": [],
   "source": [
    "## Your answer"
   ]
  }
 ],
 "metadata": {
  "kernelspec": {
   "display_name": "Python 3",
   "language": "python",
   "name": "python3"
  },
  "language_info": {
   "codemirror_mode": {
    "name": "ipython",
    "version": 3
   },
   "file_extension": ".py",
   "mimetype": "text/x-python",
   "name": "python",
   "nbconvert_exporter": "python",
   "pygments_lexer": "ipython3",
   "version": "3.7.1"
  }
 },
 "nbformat": 4,
 "nbformat_minor": 2
}
