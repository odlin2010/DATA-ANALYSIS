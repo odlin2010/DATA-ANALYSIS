{
 "cells": [
  {
   "cell_type": "markdown",
   "metadata": {},
   "source": [
    "# Advanced Pandas - 2\n",
    "- Row-wise manipulation\n",
    "    - Manipulating row index\n",
    "    - Adding rows\n",
    "    - Dropping rows\n",
    "- Merging DataFrames\n",
    "    - ```append()```\n",
    "    - ```concat()```"
   ]
  },
  {
   "cell_type": "code",
   "execution_count": null,
   "metadata": {
    "collapsed": true
   },
   "outputs": [],
   "source": [
    "import pandas as pd\n",
    "import numpy as np\n",
    "import matplotlib.pyplot as plt"
   ]
  },
  {
   "cell_type": "markdown",
   "metadata": {},
   "source": [
    "## 1. Row-wise manipulation\n",
    "- Manipulating row index\n",
    "- Adding rows\n",
    "- Dropping rows"
   ]
  },
  {
   "cell_type": "markdown",
   "metadata": {},
   "source": [
    "### Manipulating row index"
   ]
  },
  {
   "cell_type": "code",
   "execution_count": null,
   "metadata": {},
   "outputs": [],
   "source": [
    "# generating df\n",
    "idx = np.random.randint(0, 2, 10)   # create random index (0 or 1)\n",
    "col1 = np.random.randint(0, 5, 10)\n",
    "col2 = np.random.randint(0, 5, 10)\n",
    "col3 = np.random.randint(0, 5, 10)\n",
    "\n",
    "df = pd.DataFrame({'col1': col1, 'col2': col2, 'col3': col3}, index = idx)\n",
    "print(df)"
   ]
  },
  {
   "cell_type": "code",
   "execution_count": null,
   "metadata": {},
   "outputs": [],
   "source": [
    "# getting row idx\n",
    "idx = df.index         # as series\n",
    "print(idx)\n",
    "idx = idx.tolist()     # as list\n",
    "print(idx)"
   ]
  },
  {
   "cell_type": "code",
   "execution_count": null,
   "metadata": {},
   "outputs": [],
   "source": [
    "# changing row index\n",
    "idx = np.random.randint(0, 3, 10)\n",
    "df.index = idx\n",
    "print(df)"
   ]
  },
  {
   "cell_type": "code",
   "execution_count": null,
   "metadata": {},
   "outputs": [],
   "source": [
    "# substituting row index by column\n",
    "df = df.set_index('col1')     # set col1 as index\n",
    "print(df)"
   ]
  },
  {
   "cell_type": "code",
   "execution_count": null,
   "metadata": {},
   "outputs": [],
   "source": [
    "# resetting index\n",
    "# Same as: df.index = range(len(df))\n",
    "print(df.reset_index())"
   ]
  },
  {
   "cell_type": "markdown",
   "metadata": {},
   "source": [
    "### Adding rows"
   ]
  },
  {
   "cell_type": "code",
   "execution_count": null,
   "metadata": {},
   "outputs": [],
   "source": [
    "# generating df\n",
    "idx = np.random.randint(0, 2, 10)   # create random index (0 or 1)\n",
    "col1 = np.random.randint(0, 5, 10)\n",
    "col2 = np.random.randint(0, 5, 10)\n",
    "col3 = np.random.randint(0, 5, 10)\n",
    "\n",
    "df = pd.DataFrame({'col1': col1, 'col2': col2, 'col3': col3}, index = idx)\n",
    "print(df)\n",
    "\n",
    "# generating another df\n",
    "idx = np.random.randint(0, 2, 3)   # create random index (0 or 1)\n",
    "col1 = np.random.randint(0, 5, 3)\n",
    "col2 = np.random.randint(0, 5, 3)\n",
    "col3 = np.random.randint(0, 5, 3)\n",
    "\n",
    "df_ = pd.DataFrame({'col1': col1, 'col2': col2, 'col3': col3}, index = idx)\n",
    "print(df_)"
   ]
  },
  {
   "cell_type": "code",
   "execution_count": null,
   "metadata": {},
   "outputs": [],
   "source": [
    "# note that two dfs should be same column labels\n",
    "df = df.append(df_)      # adding rows to end of df\n",
    "print(df)"
   ]
  },
  {
   "cell_type": "markdown",
   "metadata": {},
   "source": [
    "### Dropping rows"
   ]
  },
  {
   "cell_type": "code",
   "execution_count": null,
   "metadata": {},
   "outputs": [],
   "source": [
    "# dropping rows with index 0\n",
    "df.drop(0)"
   ]
  },
  {
   "cell_type": "code",
   "execution_count": null,
   "metadata": {},
   "outputs": [],
   "source": [
    "# boolean row selection\n",
    "bool_vector = (df['col1'] == 0)     # select rows with having 0 in col1\n",
    "print(bool_vector)\n",
    "df[bool_vector]"
   ]
  },
  {
   "cell_type": "code",
   "execution_count": null,
   "metadata": {},
   "outputs": [],
   "source": [
    "# generating df\n",
    "idx = np.random.randint(0, 2, 10)   # create random index (0 or 1)\n",
    "col1 = np.random.randint(0, 5, 10)\n",
    "col2 = np.random.randint(0, 5, 10)\n",
    "col3 = np.random.randint(0, 5, 10)\n",
    "col4 = np.random.choice(['Python', 'Java', 'C'], size = 10)\n",
    "\n",
    "df = pd.DataFrame({'col1': col1, 'col2': col2, 'col3': col3, 'col4': col4}, index = idx)\n",
    "print(df)"
   ]
  },
  {
   "cell_type": "code",
   "execution_count": null,
   "metadata": {},
   "outputs": [],
   "source": [
    "# using isin() to select rows\n",
    "df[df['col3'].isin([0, 1])]"
   ]
  },
  {
   "cell_type": "code",
   "execution_count": null,
   "metadata": {},
   "outputs": [],
   "source": [
    "# using isin() to select rows\n",
    "df[df['col4'].isin(['Python'])]"
   ]
  },
  {
   "cell_type": "code",
   "execution_count": null,
   "metadata": {},
   "outputs": [],
   "source": [
    "# another way to select rows\n",
    "df[df['col4'].str.contains('Pyth')]    # can select rows with partial queries"
   ]
  },
  {
   "cell_type": "code",
   "execution_count": null,
   "metadata": {},
   "outputs": [],
   "source": [
    "# dropping duplicates\n",
    "df.drop_duplicates(subset = 'col1')"
   ]
  },
  {
   "cell_type": "markdown",
   "metadata": {},
   "source": [
    "### row-wise manipulation example\n",
    "- NationalNames Dataset (```NationalNames.csv```)"
   ]
  },
  {
   "cell_type": "code",
   "execution_count": null,
   "metadata": {},
   "outputs": [],
   "source": [
    "# import NationalNames Dataset\n",
    "# Dataset containing name counts of each name from 1880 ~\n",
    "df = pd.read_csv('NationalNames.csv', index_col = 'Name')\n",
    "del df['Id']       # delete Id column\n",
    "print(df.head())\n",
    "print(df.tail())"
   ]
  },
  {
   "cell_type": "code",
   "execution_count": null,
   "metadata": {},
   "outputs": [],
   "source": [
    "# what if I want to see trend of female name 'Jane' from 2000 to 2014\n",
    "# first create boolean vector\n",
    "bool_vec_1 = df.index == 'Jane'\n",
    "bool_vec_2 = np.array(df['Year'] >= 2000)\n",
    "bool_vec_3 = np.array(df['Gender'] == 'F')\n",
    "print(len(bool_vec_1))\n",
    "print(len(bool_vec_2))\n",
    "print(len(bool_vec_3))\n",
    "\n",
    "bool_vector = bool_vec_1 & bool_vec_2 & bool_vec_3\n",
    "print(len(bool_vector))"
   ]
  },
  {
   "cell_type": "code",
   "execution_count": null,
   "metadata": {},
   "outputs": [],
   "source": [
    "# select only rows that satisfy condition\n",
    "df_partial = df[bool_vector]\n",
    "print(df_partial)"
   ]
  },
  {
   "cell_type": "code",
   "execution_count": null,
   "metadata": {},
   "outputs": [],
   "source": [
    "# plotting occurrences of femal name 'Jane'\n",
    "df_partial.plot(x = 'Year', y = 'Count')\n",
    "plt.show()"
   ]
  },
  {
   "cell_type": "markdown",
   "metadata": {},
   "source": [
    "### Exercise 4-1.\n",
    "- Using NationalNames Dataset above, analyze and plot trend of male name 'John' from 1950 to 2000\n",
    "- Also analyze name trend of male name 'Mike' and compare it to that of 'John'"
   ]
  },
  {
   "cell_type": "code",
   "execution_count": null,
   "metadata": {
    "collapsed": true
   },
   "outputs": [],
   "source": [
    "## Your answer"
   ]
  },
  {
   "cell_type": "markdown",
   "metadata": {},
   "source": [
    "## 2. Merging DataFrames\n",
    "- For more information, refer to: https://pandas.pydata.org/pandas-docs/stable/merging.html"
   ]
  },
  {
   "cell_type": "markdown",
   "metadata": {},
   "source": [
    "### ```append()```\n",
    "- ```append()``` enables merging only when two DataFrames have same column labels\n",
    "- Horizontally adding rows to end of existing DataFrame"
   ]
  },
  {
   "cell_type": "code",
   "execution_count": null,
   "metadata": {},
   "outputs": [],
   "source": [
    "# generating two dfs with same column labels\n",
    "X = ['a', 'b', 'c', 'd', 'e']\n",
    "Y = ['a', 'c', 'e', 'g', 'i']\n",
    "Z = ['b', 'd', 'f', 'h', 'j']\n",
    "\n",
    "df1 = pd.DataFrame({'X': X, 'Y': Y, 'Z': Z})\n",
    "\n",
    "X = ['e', 'f', 'g', 'h', 'i']\n",
    "Y = ['e', 'g', 'i', 'j', 'l']\n",
    "Z = ['f', 'h', 'j', 'l', 'm']\n",
    "\n",
    "df2 = pd.DataFrame({'X': X, 'Y': Y, 'Z': Z})\n",
    "\n",
    "print(df1)\n",
    "print(df2)"
   ]
  },
  {
   "cell_type": "code",
   "execution_count": null,
   "metadata": {},
   "outputs": [],
   "source": [
    "df_new = df1.append(df2)      # df1 + df2\n",
    "print(df_new)\n",
    "df_new = df2.append(df1)      # df2 + df1\n",
    "print(df_new)"
   ]
  },
  {
   "cell_type": "markdown",
   "metadata": {},
   "source": [
    "### ```concat()```\n",
    "- ```concat()``` stacks two or more DataFrames *side-by-side* or *one below another*\n",
    "    - ```axis``` parameters enables stacking horizontally or vertically"
   ]
  },
  {
   "cell_type": "code",
   "execution_count": null,
   "metadata": {},
   "outputs": [],
   "source": [
    "# generating two dfs with same column labels\n",
    "X = ['a', 'b', 'c', 'd', 'e']\n",
    "Y = ['a', 'c', 'e', 'g', 'i']\n",
    "Z = ['b', 'd', 'f', 'h', 'j']\n",
    "\n",
    "df1 = pd.DataFrame({'X': X, 'Y': Y, 'Z': Z})\n",
    "\n",
    "X = ['e', 'f', 'g', 'h', 'i']\n",
    "Y = ['e', 'g', 'i', 'j', 'l']\n",
    "Z = ['f', 'h', 'j', 'l', 'm']\n",
    "\n",
    "df2 = pd.DataFrame({'X': X, 'Y': Y, 'Z': Z})\n",
    "\n",
    "X = ['o', 'p', 'q', 'r', 's']\n",
    "Y = ['o', 'q', 's', 'u', 'w']\n",
    "Z = ['p', 'r', 't', 'v', 'x']\n",
    "\n",
    "df3 = pd.DataFrame({'X': X, 'Y': Y, 'Z': Z})\n",
    "\n",
    "print(df1)\n",
    "print(df2)\n",
    "print(df3)"
   ]
  },
  {
   "cell_type": "code",
   "execution_count": null,
   "metadata": {},
   "outputs": [],
   "source": [
    "# concatenating dfs horizontally\n",
    "df_new = pd.concat([df1, df2, df3])\n",
    "print(df_new)"
   ]
  },
  {
   "cell_type": "code",
   "execution_count": null,
   "metadata": {},
   "outputs": [],
   "source": [
    "# concatenate dfs while resetting index\n",
    "df_new = pd.concat([df1, df2, df3], ignore_index = True)\n",
    "print(df_new)"
   ]
  },
  {
   "cell_type": "code",
   "execution_count": null,
   "metadata": {},
   "outputs": [],
   "source": [
    "# otherwise, set new index\n",
    "df_new = pd.concat([df1, df2, df3])\n",
    "df_new.index = np.random.randint(0, 5, 15)\n",
    "print(df_new)"
   ]
  },
  {
   "cell_type": "code",
   "execution_count": null,
   "metadata": {},
   "outputs": [],
   "source": [
    "# concatenate dfs with keys parameter\n",
    "# now, one can access df with 'keys'\n",
    "df_new = pd.concat([df1, df2, df3], keys = ['df1', 'df2', 'df3'])\n",
    "print(df_new)\n",
    "print(df_new.loc['df1'])        # rows with key (outer index) 'df1' is selected"
   ]
  },
  {
   "cell_type": "code",
   "execution_count": null,
   "metadata": {},
   "outputs": [],
   "source": [
    "# concatenating dfs vertically\n",
    "df_new = pd.concat([df1, df2, df3], axis = 1)\n",
    "print(df_new)"
   ]
  }
 ],
 "metadata": {
  "kernelspec": {
   "display_name": "Python 3",
   "language": "python",
   "name": "python3"
  },
  "language_info": {
   "codemirror_mode": {
    "name": "ipython",
    "version": 3
   },
   "file_extension": ".py",
   "mimetype": "text/x-python",
   "name": "python",
   "nbconvert_exporter": "python",
   "pygments_lexer": "ipython3",
   "version": "3.7.1"
  }
 },
 "nbformat": 4,
 "nbformat_minor": 2
}
