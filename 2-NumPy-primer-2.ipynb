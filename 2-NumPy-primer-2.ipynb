{
 "cells": [
  {
   "cell_type": "markdown",
   "metadata": {},
   "source": [
    "# NumPy Primer - 2\n",
    "- Array indexing & slicing\n",
    "    - Indexing\n",
    "    - Slicing\n",
    "- Array operations\n",
    "- Array functions\n",
    "    - Creating sequence of numbers\n",
    "    - Manipulating arrays\n",
    "    - Matrix/vector multiplications\n",
    "    - Basic statistics"
   ]
  },
  {
   "cell_type": "code",
   "execution_count": 1,
   "metadata": {
    "collapsed": true
   },
   "outputs": [],
   "source": [
    "import numpy as np"
   ]
  },
  {
   "cell_type": "markdown",
   "metadata": {},
   "source": [
    "## 1. Indexing & slicing\n",
    "- Array indexing & slicing is largely similar to Python indexing & slicing\n",
    "\n",
    "<br>\n",
    "<img src=\"https://www.safaribooksonline.com/library/view/python-for-data/9781449323592/httpatomoreillycomsourceoreillyimages1346880.png\" style=\"width: 400px\"/>\n",
    "\n",
    "<img src=\"https://www.safaribooksonline.com/library/view/python-for-data/9781449323592/httpatomoreillycomsourceoreillyimages1346882.png\" style=\"width: 400px\"/>"
   ]
  },
  {
   "cell_type": "markdown",
   "metadata": {},
   "source": [
    "### Indexing\n",
    "- Note than index starts with ```axis 0 ``` and increments"
   ]
  },
  {
   "cell_type": "code",
   "execution_count": 2,
   "metadata": {},
   "outputs": [
    {
     "name": "stdout",
     "output_type": "stream",
     "text": [
      "1\n",
      "3\n",
      "5\n"
     ]
    }
   ],
   "source": [
    "# case of 1-D arrays\n",
    "a1 = np.array([1, 2, 3, 4, 5])\n",
    "print(a1[0])\n",
    "print(a1[2])\n",
    "print(a1[-1])"
   ]
  },
  {
   "cell_type": "code",
   "execution_count": 5,
   "metadata": {},
   "outputs": [
    {
     "name": "stdout",
     "output_type": "stream",
     "text": [
      "[1 2 3]\n",
      "2\n"
     ]
    }
   ],
   "source": [
    "# case of 2-D arrays\n",
    "a2 = np.array([[1, 2, 3], [4, 5, 6]])\n",
    "print(a2[0])\n",
    "print(a2[0, 1])"
   ]
  },
  {
   "cell_type": "code",
   "execution_count": 6,
   "metadata": {},
   "outputs": [
    {
     "name": "stdout",
     "output_type": "stream",
     "text": [
      "[[ 1  2  3]\n",
      " [ 4  5  6]\n",
      " [ 7  8  9]\n",
      " [10 11 12]]\n",
      "[4 5 6]\n",
      "5\n"
     ]
    }
   ],
   "source": [
    "# case of 3-D arrays\n",
    "a3 = np.array([[[1,2,3], [4,5,6], [7,8,9], [10,11,12]]])\n",
    "print(a3[0])\n",
    "print(a3[0][1])\n",
    "print(a3[0][1][1])"
   ]
  },
  {
   "cell_type": "markdown",
   "metadata": {},
   "source": [
    "### Slicing"
   ]
  },
  {
   "cell_type": "code",
   "execution_count": 7,
   "metadata": {},
   "outputs": [
    {
     "name": "stdout",
     "output_type": "stream",
     "text": [
      "[3 4 5]\n",
      "[1 2 3]\n"
     ]
    }
   ],
   "source": [
    "# case of 1-D arrays\n",
    "a4 = np.array([1, 2, 3, 4, 5])\n",
    "print(a4[2:])\n",
    "print(a4[:-2])"
   ]
  },
  {
   "cell_type": "code",
   "execution_count": 8,
   "metadata": {},
   "outputs": [
    {
     "name": "stdout",
     "output_type": "stream",
     "text": [
      "[1 3]\n",
      "[1 2 3]\n",
      "[1 2]\n",
      "[[2 3]\n",
      " [4 5]]\n"
     ]
    }
   ],
   "source": [
    "# case of 2-D arrays\n",
    "a5 = np.array([[1,2,3],[3,4,5]])\n",
    "print(a5[:, 0])         # selecting all rows in 0th column\n",
    "print(a5[0, :])         # selecting all columns in 0th row\n",
    "print(a5[0, :2])        # selecting first two columns in 0th row\n",
    "print(a5[:, 1:])        # selecting last two columns in every row"
   ]
  },
  {
   "cell_type": "markdown",
   "metadata": {},
   "source": [
    "### Boolean indexing\n",
    "- Boolean array has same shape with original array\n",
    "    - If each element satisfy certain condition, corresponding element in boolean array is ```True```\n",
    "    - If not, ```False```"
   ]
  },
  {
   "cell_type": "code",
   "execution_count": 11,
   "metadata": {},
   "outputs": [
    {
     "name": "stdout",
     "output_type": "stream",
     "text": [
      "[ True False  True False  True]\n"
     ]
    }
   ],
   "source": [
    "# creating boolean array\n",
    "a6 = np.array([1, 2, 3, 4, 5])\n",
    "bool_arr = (a6 % 2 == 1)   # index only even integers\n",
    "print(bool_arr)"
   ]
  },
  {
   "cell_type": "code",
   "execution_count": 13,
   "metadata": {},
   "outputs": [
    {
     "name": "stdout",
     "output_type": "stream",
     "text": [
      "[2 4]\n"
     ]
    }
   ],
   "source": [
    "# using boolean array to index\n",
    "print(a6[a6%2 == 0])         # 2 and 4 as result"
   ]
  },
  {
   "cell_type": "code",
   "execution_count": 14,
   "metadata": {},
   "outputs": [
    {
     "name": "stdout",
     "output_type": "stream",
     "text": [
      "[[ 1  2]\n",
      " [ 3  4]\n",
      " [ 9 10]]\n"
     ]
    }
   ],
   "source": [
    "# applying 1-D boolean array to multi-dimensional array\n",
    "a7 = np.array([[1, 2], [3, 4], [5, 6], [7, 8], [9, 10]])    # shape = (5, 2)\n",
    "bool_arr = np.array([True, True, False, False, True])       # shape = (5,)\n",
    "print(a7[bool_arr])"
   ]
  },
  {
   "cell_type": "markdown",
   "metadata": {},
   "source": [
    "### Exercise 2-1.\n",
    "- Create 1-D array containing integers 0 to 99\n",
    "- Using indexing, print element in position ```(95,)```\n",
    "- Using slicing, select and print first 30th elements in array "
   ]
  },
  {
   "cell_type": "code",
   "execution_count": null,
   "metadata": {
    "collapsed": true
   },
   "outputs": [],
   "source": [
    "## Your answer\n"
   ]
  },
  {
   "cell_type": "markdown",
   "metadata": {},
   "source": [
    "### Exercise 2-2.\n",
    "- Create 2-D array with ```shape (3,3) ``` containing integers 1 to 9\n",
    "- Using indexing, print element in position ```(1,1)```\n",
    "- Using slicing, select and print 2nd column of array, i.e., ```(,1)```"
   ]
  },
  {
   "cell_type": "code",
   "execution_count": null,
   "metadata": {
    "collapsed": true
   },
   "outputs": [],
   "source": [
    "### Your answer"
   ]
  },
  {
   "cell_type": "markdown",
   "metadata": {},
   "source": [
    "## 2. Array operations\n",
    "- NumPy array operations are rather different from Python list operations\n",
    "    - Array operations are *element-wise* as default\n",
    "    - So, to perform array operations, ```shape``` of arrays should be the same\n",
    "    - Correspondingly, ```shape``` of resulting array is identical as well\n",
    "- To perform operations other than element-wise operations, NumPy functions should be used"
   ]
  },
  {
   "cell_type": "code",
   "execution_count": null,
   "metadata": {
    "collapsed": true
   },
   "outputs": [],
   "source": [
    "# case of 1-D lists\n",
    "l1 = [1, 2, 3]\n",
    "l2 = [4, 5, 6]\n",
    "print(l1 + l2)"
   ]
  },
  {
   "cell_type": "code",
   "execution_count": null,
   "metadata": {
    "collapsed": true
   },
   "outputs": [],
   "source": [
    "# case of 1-D arrays\n",
    "a1 = np.array(l1)\n",
    "a2 = np.array(l2)\n",
    "print(a1 + a2)"
   ]
  },
  {
   "cell_type": "code",
   "execution_count": null,
   "metadata": {
    "collapsed": true
   },
   "outputs": [],
   "source": [
    "# case of 2-D arrays\n",
    "a3 = np.array([[1,2,3], [4,5,6]])\n",
    "a4 = np.array([[7,8,9], [10,11,12]])\n",
    "print(a3 + a4)\n",
    "print(a3 - a4)\n",
    "print(a3 * a4)\n",
    "print(a3 / a4)    # note that result is array of floats"
   ]
  },
  {
   "cell_type": "code",
   "execution_count": null,
   "metadata": {
    "collapsed": true
   },
   "outputs": [],
   "source": [
    "# operation between scalar and array\n",
    "# scalar is \"spread out\" to each element in array\n",
    "a5 = np.array([[1,2], [3,4]])\n",
    "print(a5 + 2)\n",
    "print(a5 - 2)\n",
    "print(a5 * 2)\n",
    "print(a5 / 2)     # note that result is array of floats"
   ]
  },
  {
   "cell_type": "markdown",
   "metadata": {},
   "source": [
    "### Exercise 2-3.\n",
    "- Create 2-D array with ```shape (3, 2) ``` containing integers 1 from 6\n",
    "- By slicing,\n",
    "    - Twice elements only in second column of array (i.e., multiply by 2)\n",
    "    - Reduce elements only in third row of array by 1 (i.e., minus by 1)"
   ]
  },
  {
   "cell_type": "code",
   "execution_count": null,
   "metadata": {
    "collapsed": true
   },
   "outputs": [],
   "source": [
    "## Your answer"
   ]
  },
  {
   "cell_type": "markdown",
   "metadata": {},
   "source": [
    "### Exercise 2-4.\n",
    "- Perform same operation in Exercise 2-4 by creating another matrix with same shape"
   ]
  },
  {
   "cell_type": "code",
   "execution_count": null,
   "metadata": {
    "collapsed": true
   },
   "outputs": [],
   "source": [
    "## Your answer"
   ]
  },
  {
   "cell_type": "markdown",
   "metadata": {},
   "source": [
    "## 3. Array functions\n",
    "- NumPy provides a number of functions useful for data processing"
   ]
  },
  {
   "cell_type": "markdown",
   "metadata": {},
   "source": [
    "### Creating sequence of numbers\n",
    "- NumPy supports functions to effectively create sequence of numbers, similar to ```range()``` function in Python"
   ]
  },
  {
   "cell_type": "code",
   "execution_count": null,
   "metadata": {
    "collapsed": true
   },
   "outputs": [],
   "source": [
    "# arange() generates sequence of integers as 1-D array\n",
    "a1 = np.arange(10)\n",
    "print(type(a1))\n",
    "print(a1)"
   ]
  },
  {
   "cell_type": "code",
   "execution_count": null,
   "metadata": {
    "collapsed": true
   },
   "outputs": [],
   "source": [
    "# step parameter can be set up\n",
    "a2 = np.arange(10, step = 2)\n",
    "print(a2)"
   ]
  },
  {
   "cell_type": "code",
   "execution_count": null,
   "metadata": {
    "collapsed": true
   },
   "outputs": [],
   "source": [
    "# linspace() generates sequence of evenly spaced numbers over a specified interval\n",
    "a3 = np.linspace(start = 0, stop = 5, num = 10)\n",
    "print(a3)\n",
    "a4 = np.linspace(start = 0, stop = 5, endpoint = False, num = 10) # stop exclusive\n",
    "print(a4)"
   ]
  },
  {
   "cell_type": "markdown",
   "metadata": {},
   "source": [
    "### Manipulating arrays\n",
    "- Arrays can be manipulated using diverse functions"
   ]
  },
  {
   "cell_type": "code",
   "execution_count": null,
   "metadata": {
    "collapsed": true
   },
   "outputs": [],
   "source": [
    "# reshaping array\n",
    "a1 = np.arange(9)\n",
    "a2 = a1.reshape(3,3)\n",
    "print(a2)\n",
    "a3 = np.arange(8)\n",
    "a4 = a3.reshape(4,2)\n",
    "print(a4)"
   ]
  },
  {
   "cell_type": "code",
   "execution_count": null,
   "metadata": {
    "collapsed": true
   },
   "outputs": [],
   "source": [
    "# transposing array\n",
    "# colums & rows are reversed\n",
    "# (M, N)  => (N, M)\n",
    "a5 = np.arange(8).reshape(2,4)\n",
    "print(a5)\n",
    "print(a5.shape)\n",
    "a6 = a5.transpose()\n",
    "print(a6)\n",
    "print(a6.shape)"
   ]
  },
  {
   "cell_type": "code",
   "execution_count": null,
   "metadata": {
    "collapsed": true
   },
   "outputs": [],
   "source": [
    "# merging two arrays\n",
    "a7 = np.arange(5)\n",
    "a8 = np.arange(5, 10)\n",
    "a9 = np.concatenate((a7, a8))\n",
    "print(a9)"
   ]
  },
  {
   "cell_type": "code",
   "execution_count": null,
   "metadata": {
    "collapsed": true
   },
   "outputs": [],
   "source": [
    "# stacking arrays\n",
    "a10 = np.hstack((a7, a8))    # stacking arrays horizontally (column-wise)\n",
    "print(a10)\n",
    "a11 = np.vstack((a7, a8))    # stacking arrays vertically (row-wise)\n",
    "print(a11)"
   ]
  },
  {
   "cell_type": "code",
   "execution_count": null,
   "metadata": {
    "collapsed": true
   },
   "outputs": [],
   "source": [
    "# sorting arrays\n",
    "a12 = np.random.randint(0, 10, 10)    # create random array\n",
    "print(a12)\n",
    "a12.sort()                            # sort in ascending order\n",
    "print(a12)\n",
    "a12 = a12[::-1]                       # sort in descending order\n",
    "print(a12)"
   ]
  },
  {
   "cell_type": "markdown",
   "metadata": {},
   "source": [
    "### Matrix/vector multiplications\n",
    "- As seen in section 2, array multiplications are *element-wise* as default\n",
    "- By using ```inner()``` or ```dot()``` functions, inner products (dot products) can be performed\n",
    "    - Note that to perform matrix multiplication using ```dot()```, number of columns of first matrix (size of second ```dimension```) and number of rows of second matrix (size of first ```dimension```) should match\n",
    "    - e.g., consider the case of multiplying array with shape (2, 3) and array with shape (3, 2)\n",
    "        - Number of columns of first matrix = 3\n",
    "        - Number of rows of second matrix = 3\n",
    "        - Resulting matrix shape = (2, 2\n",
    "    \n",
    "<br>\n",
    "<img src=\"https://www.mathsisfun.com/algebra/images/matrix-multiply-a.svg\" style=\"width: 500px\"/>    "
   ]
  },
  {
   "cell_type": "code",
   "execution_count": null,
   "metadata": {
    "collapsed": true
   },
   "outputs": [],
   "source": [
    "# case of 1-D arrays\n",
    "a1 = np.array([1,2,3])\n",
    "a2 = np.array([4,5,6])\n",
    "print(a1 * a2)\n",
    "print(np.inner(a1, a2))\n",
    "print(np.dot(a1, a2))"
   ]
  },
  {
   "cell_type": "code",
   "execution_count": null,
   "metadata": {
    "collapsed": true
   },
   "outputs": [],
   "source": [
    "# case of 2-D arrays\n",
    "a3 = np.array([[1,2,3], [4,5,6]])     # shape = (2, 3)\n",
    "a4 = np.array([[2,4,6]])              # shape = (1, 3)\n",
    "print(a3 * a4)                   # note that a4 is \"broadcasted\" to a3\n",
    "print(np.inner(a3, a4))          # note that a4 is \"broadcasted\" to a3\n",
    "print(np.dot(a3, a4))            # not defined as shapes does not match"
   ]
  },
  {
   "cell_type": "code",
   "execution_count": null,
   "metadata": {
    "collapsed": true
   },
   "outputs": [],
   "source": [
    "a5 = np.array([[1,2], [3,4], [5,6]])\n",
    "a6 = np.array([[1,2,2], [1,2,2]])\n",
    "print(np.dot(a5, a6))           # matrix multiplication is defined\n",
    "print(np.inner(a5, a6))         # not able to broadcast as shapes are not compatible\n",
    "print(a5 * a6)                  # not able to broadcast as shapes are not compatible"
   ]
  },
  {
   "cell_type": "markdown",
   "metadata": {},
   "source": [
    "### Basic statistics\n",
    "- NumPy supports useful functions to compute basic statistics\n",
    "- In calculating statistics, one should carefully set ```axis``` parameter"
   ]
  },
  {
   "cell_type": "code",
   "execution_count": null,
   "metadata": {
    "collapsed": true
   },
   "outputs": [],
   "source": [
    "#  case of 1-D arrays\n",
    "a1 = np.arange(1, 11)\n",
    "print(a1)\n",
    "print(a1.mean())             # average of all elements\n",
    "print(a1.std())              # standard deviation of all elements\n",
    "print(a1.max())              # maximum among all elements\n",
    "print(a1.min())              # minimum among all elements\n",
    "print(a1.argmax())           # index of max element\n",
    "print(a1.argmin())           # index of min element"
   ]
  },
  {
   "cell_type": "code",
   "execution_count": null,
   "metadata": {
    "collapsed": true
   },
   "outputs": [],
   "source": [
    "# case of 2-D arrays\n",
    "a2 = np.arange(9).reshape(3,3)\n",
    "print(a2)\n",
    "print(a2.mean())            # average of all elements\n",
    "print(a2.mean(axis = 0))    # average of elements along axis 0 (column-wise average)\n",
    "print(a2.mean(axis = 1))    # average of elements along axis 1 (row-wise average)"
   ]
  },
  {
   "cell_type": "code",
   "execution_count": null,
   "metadata": {
    "collapsed": true
   },
   "outputs": [],
   "source": [
    "# correlation coeff between two 1-D arrays (i.e., two variables)\n",
    "a3 = np.array([2, 4, 5, 1, 3])\n",
    "a4 = np.array([9, 8, 6, 7, 5])\n",
    "print(np.corrcoef(a3, a4))"
   ]
  },
  {
   "cell_type": "code",
   "execution_count": null,
   "metadata": {
    "collapsed": true
   },
   "outputs": [],
   "source": [
    "# correlation coeff among rows in 2-D array\n",
    "a5 = np.array([[2, 4, 5, 1, 3], [9, 8, 6, 7, 5]])\n",
    "print(a5)\n",
    "print(np.corrcoef(a5))"
   ]
  },
  {
   "cell_type": "code",
   "execution_count": null,
   "metadata": {
    "collapsed": true
   },
   "outputs": [],
   "source": [
    "a6 = np.array([[2, 4, 5, 1, 3], [9, 8, 6, 7, 5]]).transpose()\n",
    "print(a6)\n",
    "print(np.corrcoef(a6, rowvar = False))"
   ]
  },
  {
   "cell_type": "markdown",
   "metadata": {},
   "source": [
    "### Exercise 2-5.\n",
    "- Create two 2-D arrays of ```shape (3,2)``` which contains integers 0 from 5 and 6 from 11, respectively\n",
    "- Compute element-wise multiplication of two arrays and print out result\n",
    "- Transpose second array and perform matrix multiplication. Print out result\n",
    "- Print row-wise and column-wise average of elements in matrix computed"
   ]
  },
  {
   "cell_type": "code",
   "execution_count": null,
   "metadata": {
    "collapsed": true
   },
   "outputs": [],
   "source": [
    "## Your answer"
   ]
  },
  {
   "cell_type": "markdown",
   "metadata": {},
   "source": [
    "### Exercise 2-6.\n",
    "- There are three arrays, ```class_a_scores```, ```class_b_scores```, ```class_c_scores```, which designates scores of classmates in class A, B, and C.\n",
    "<br>\n",
    "```class_a_scores = array([90, 78, 54, 39, 100]), ```\n",
    "```class_b_scores = array([70, 99, 80, 67, 33]), ```\n",
    "```class_c_scores = array([30, 49, 98, 100, 34])```\n",
    "<br>\n",
    "    - Compute average of all 15 students\n",
    "    - Compute maximum scores of each class\n",
    "    - Compute minimum score among all 15 students"
   ]
  },
  {
   "cell_type": "code",
   "execution_count": null,
   "metadata": {
    "collapsed": true
   },
   "outputs": [],
   "source": [
    "## Your answer"
   ]
  },
  {
   "cell_type": "markdown",
   "metadata": {},
   "source": [
    "### Exercise 2-7.\n",
    "- Create 2-D matrix of ```shape (5,5)``` which is consisted of random integers between 0 and 10\n",
    "- Normalize elements in matrix\n",
    "    - Normalization scheme: ```X_normalized = (X-min(X))/(max(X)-min(X))```"
   ]
  },
  {
   "cell_type": "code",
   "execution_count": null,
   "metadata": {
    "collapsed": true
   },
   "outputs": [],
   "source": [
    "## Your answer"
   ]
  },
  {
   "cell_type": "markdown",
   "metadata": {},
   "source": [
    "### Exercise 2-8.\n",
    "- Create 1-D matrix ```arr = array([9, 8, 3, 5, 1, 4, 2])```\n",
    "- Sort array in *ascending* order without using sort() or argsort() function\n",
    "- Sort array in *descending* order without using sort() or argsort() function"
   ]
  },
  {
   "cell_type": "code",
   "execution_count": null,
   "metadata": {
    "collapsed": true
   },
   "outputs": [],
   "source": [
    "## Your answer"
   ]
  }
 ],
 "metadata": {
  "kernelspec": {
   "display_name": "Python 3",
   "language": "python",
   "name": "python3"
  },
  "language_info": {
   "codemirror_mode": {
    "name": "ipython",
    "version": 3
   },
   "file_extension": ".py",
   "mimetype": "text/x-python",
   "name": "python",
   "nbconvert_exporter": "python",
   "pygments_lexer": "ipython3",
   "version": "3.7.1"
  }
 },
 "nbformat": 4,
 "nbformat_minor": 2
}
