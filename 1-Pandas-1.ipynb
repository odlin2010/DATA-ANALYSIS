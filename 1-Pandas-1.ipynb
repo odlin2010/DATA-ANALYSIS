{
 "cells": [
  {
   "cell_type": "markdown",
   "metadata": {},
   "source": [
    "# Pandas Primer - 1\n",
    "- Pandas\n",
    "- Series\n",
    "    - Creating series\n",
    "    - Indexing & slicing series\n",
    "    - Series operations\n",
    "- DataFrames\n",
    "    - Creating DataFrames\n",
    "    - Column operations\n",
    "    - Indexing & Slicing\n",
    "    - Viewing DataFrame\n",
    "    - DataFrames and arrays"
   ]
  },
  {
   "cell_type": "markdown",
   "metadata": {},
   "source": [
    "## 1. Pandas\n",
    "<img src=\"https://cdn-images-1.medium.com/max/1600/1*93CVLqnQESmvfOhzvYUgQw.png\" style=\"width: 400px\"/>\n",
    "\n",
    "- Python library for data manipulation and analysis\n",
    "- Offers data structures similar to that of RDB & Excel & R\n",
    "    - DataFrame & Series"
   ]
  },
  {
   "cell_type": "code",
   "execution_count": 1,
   "metadata": {
    "collapsed": true
   },
   "outputs": [],
   "source": [
    "# importing pandas\n",
    "# pandas is imported using alias 'pd' in most cases\n",
    "import pandas as pd\n",
    "import numpy as np"
   ]
  },
  {
   "cell_type": "markdown",
   "metadata": {},
   "source": [
    "## 2. Series\n",
    "- Series is similar to *one-dimensional array or list*, but with **index** for each element\n",
    "    - As default, **index** is set to ```[0, 1, 2, ..., n-1]```\n",
    "    - However, user can set **index**, which has same length as data"
   ]
  },
  {
   "cell_type": "markdown",
   "metadata": {},
   "source": [
    "### Creating series\n",
    "- From scalar value\n",
    "- From array/list/tuple\n",
    "- From Python dictionary"
   ]
  },
  {
   "cell_type": "code",
   "execution_count": 2,
   "metadata": {},
   "outputs": [
    {
     "name": "stdout",
     "output_type": "stream",
     "text": [
      "0    10\n",
      "dtype: int64\n",
      "0    10.0\n",
      "1    10.0\n",
      "2    10.0\n",
      "dtype: float64\n",
      "a    10.0\n",
      "b    10.0\n",
      "c    10.0\n",
      "dtype: float64\n"
     ]
    }
   ],
   "source": [
    "# creating series from scalar\n",
    "# note that when passing scalar, elements in Series are all same\n",
    "s1 = pd.Series(10)                         # without any index, length = 1\n",
    "print(s1)\n",
    "s2 = pd.Series(10., index = range(3))     # when index is set of integers\n",
    "print(s2)\n",
    "s3 = pd.Series(10., index = ['a', 'b', 'c']) # when index is strings\n",
    "print(s3)"
   ]
  },
  {
   "cell_type": "code",
   "execution_count": 3,
   "metadata": {},
   "outputs": [
    {
     "name": "stdout",
     "output_type": "stream",
     "text": [
      "0    1\n",
      "1    2\n",
      "2    3\n",
      "dtype: int64\n",
      "0    1.0\n",
      "1    2.0\n",
      "2    3.0\n",
      "dtype: float64\n",
      "0    1.0\n",
      "1    1.0\n",
      "2    1.0\n",
      "dtype: float64\n"
     ]
    }
   ],
   "source": [
    "# creating series from array/list/tuple\n",
    "s1 = pd.Series([1, 2, 3])            # from list\n",
    "print(s1)\n",
    "s2 = pd.Series((1., 2., 3.))         # from tuple\n",
    "print(s2)\n",
    "s3 = pd.Series(np.ones(3))           # from array\n",
    "print(s3)"
   ]
  },
  {
   "cell_type": "code",
   "execution_count": 4,
   "metadata": {},
   "outputs": [
    {
     "name": "stdout",
     "output_type": "stream",
     "text": [
      "a    0\n",
      "b    1\n",
      "c    2\n",
      "dtype: int64\n",
      "0    a\n",
      "1    b\n",
      "2    c\n",
      "dtype: object\n"
     ]
    }
   ],
   "source": [
    "# creating series from dictionary\n",
    "# note that keys function as index & values as elements\n",
    "dictionary = {'a': 0, 'b': 1, 'c': 2}\n",
    "s1 = pd.Series(dictionary)\n",
    "print(s1)\n",
    "dictionary = {0: 'a', 1: 'b', 2: 'c'}\n",
    "s2 = pd.Series(dictionary)\n",
    "print(s2)"
   ]
  },
  {
   "cell_type": "code",
   "execution_count": 6,
   "metadata": {},
   "outputs": [
    {
     "name": "stdout",
     "output_type": "stream",
     "text": [
      "1    a\n",
      "2    b\n",
      "3    c\n",
      "4    d\n",
      "5    e\n",
      "dtype: object\n",
      "Int64Index([1, 2, 3, 4, 5], dtype='int64')\n",
      "['a' 'b' 'c' 'd' 'e']\n",
      "object\n"
     ]
    }
   ],
   "source": [
    "# extracting index and values from series\n",
    "s1 = pd.Series(['a', 'b', 'c', 'd', 'e'], index = [1, 2, 3, 4, 5])\n",
    "print(s1)\n",
    "print(s1.index)\n",
    "print(s1.values)\n",
    "print(s1.dtype)"
   ]
  },
  {
   "cell_type": "markdown",
   "metadata": {},
   "source": [
    "### Indexing & slicing series\n",
    "- Indexing & slicing is similar to that of NumPy arrays\n",
    "- But note that Pandas series perform indexing & slicing based on *index*"
   ]
  },
  {
   "cell_type": "code",
   "execution_count": 7,
   "metadata": {},
   "outputs": [
    {
     "name": "stdout",
     "output_type": "stream",
     "text": [
      "0\n",
      "0\n",
      "3\n",
      "3\n"
     ]
    }
   ],
   "source": [
    "# indexing examples\n",
    "# note that result of indexing is scalar value\n",
    "s1 = pd.Series([0, 1, 2, 3], index = ['a', 'b', 'c', 'd'])\n",
    "print(s1[0])         # first element in series\n",
    "print(s1['a'])       # element with index 'a'\n",
    "print(s1[-1])        # last element in series\n",
    "print(s1['d'])       # element with index 'd'"
   ]
  },
  {
   "cell_type": "code",
   "execution_count": 8,
   "metadata": {},
   "outputs": [
    {
     "name": "stdout",
     "output_type": "stream",
     "text": [
      "b    1\n",
      "c    2\n",
      "d    3\n",
      "dtype: int64\n",
      "a    0\n",
      "b    1\n",
      "c    2\n",
      "dtype: int64\n",
      "b    1\n",
      "c    2\n",
      "d    3\n",
      "dtype: int64\n",
      "a    0\n",
      "b    1\n",
      "c    2\n",
      "dtype: int64\n"
     ]
    }
   ],
   "source": [
    "# slicing examples\n",
    "# note that result of slicing is another series\n",
    "s1 = pd.Series([0, 1, 2, 3], index = ['a', 'b', 'c', 'd'])\n",
    "print(s1[1:])         # elements except first\n",
    "print(s1[:-1])        # elements except last\n",
    "print(s1['b':])       # elements except first\n",
    "print(s1[:'c'])       # elements except last"
   ]
  },
  {
   "cell_type": "markdown",
   "metadata": {},
   "source": [
    "### Series operations\n",
    "- As NumPy arrays, series operations are mostly *element-wise*\n",
    "- Also note that most NumPy functions can be applied to series"
   ]
  },
  {
   "cell_type": "code",
   "execution_count": 9,
   "metadata": {},
   "outputs": [
    {
     "name": "stdout",
     "output_type": "stream",
     "text": [
      "0    0\n",
      "1    1\n",
      "2    2\n",
      "dtype: int32\n",
      "0    3\n",
      "1    2\n",
      "2    1\n",
      "dtype: int32\n"
     ]
    }
   ],
   "source": [
    "s1 = pd.Series(np.arange(3))\n",
    "print(s1)\n",
    "s2 = pd.Series(np.arange(3, 0, -1))\n",
    "print(s2)"
   ]
  },
  {
   "cell_type": "code",
   "execution_count": 10,
   "metadata": {},
   "outputs": [
    {
     "name": "stdout",
     "output_type": "stream",
     "text": [
      "0    3\n",
      "1    3\n",
      "2    3\n",
      "dtype: int32\n",
      "0    0\n",
      "1    2\n",
      "2    4\n",
      "dtype: int32\n",
      "0    0\n",
      "1    1\n",
      "2    4\n",
      "dtype: int32\n",
      "0    20.085537\n",
      "1     7.389056\n",
      "2     2.718282\n",
      "dtype: float64\n"
     ]
    }
   ],
   "source": [
    "# basic operations - similar to NumPy\n",
    "print(s1 + s2)\n",
    "print(s1 * 2)\n",
    "print(s1 ** 2)\n",
    "print(np.exp(s2))"
   ]
  },
  {
   "cell_type": "markdown",
   "metadata": {},
   "source": [
    "### Exercise 1-1.\n",
    "- Create NumPy array consisted of only even integers between 0 and 29 (0, 2, ..., 28)\n",
    "- Convert array into Pandas series\n",
    "- Set index of series to odd integers between 0 and 29 (1, 3, 5, ..., 29)\n",
    "- Print series"
   ]
  },
  {
   "cell_type": "code",
   "execution_count": null,
   "metadata": {
    "collapsed": true
   },
   "outputs": [],
   "source": [
    "## Your answer"
   ]
  },
  {
   "cell_type": "markdown",
   "metadata": {},
   "source": [
    "## 3. DataFrames\n",
    "- DataFrame is similar to two-dimensional array of list (i.e., matrix), but with index\n",
    "- It has similar structure to that of Excel spreadsheet, RDB Table, R Dataframe, etc.\n",
    "    - If confused, just think of it as table!\n",
    "    \n",
    "<img src=\"https://i.stack.imgur.com/G5PWJ.png\" style=\"width: 400px\"/>\n",
    "\n",
    "<center> Pandas DataFrame </center>\n",
    "\n",
    "<img src=\"https://cloud.addictivetips.com/wp-content/uploads/2010/04/copy1.jpg\" style=\"width: 400px\"/>\n",
    "\n",
    "<center> Excel Spreadsheet </center>\n",
    "\n",
    "<img src=\"https://gonehybrid.com/content/images/2017/02/table.png\" style=\"width: 400px\"/>\n",
    "\n",
    "<center> SQL table </center>\n",
    "\n",
    "<img src=\"http://www.zorro-trader.com/manual/images/cars-dataframe.png\" style=\"width: 400px\"/>\n",
    "\n",
    "<center> R Dataframe </center>"
   ]
  },
  {
   "cell_type": "markdown",
   "metadata": {},
   "source": [
    "### Creating DataFrames\n",
    "- From Python dictionary (of 1-D lists, arrays, or series)\n",
    "- From 2-D NumPy array\n",
    "- From list of dictionaries"
   ]
  },
  {
   "cell_type": "code",
   "execution_count": 17,
   "metadata": {},
   "outputs": [
    {
     "name": "stdout",
     "output_type": "stream",
     "text": [
      "   col  col2  col3\n",
      "0    1     0   2.0\n",
      "1    2     1   4.0\n",
      "2    3     2   6.0\n"
     ]
    }
   ],
   "source": [
    "# creating df from dict\n",
    "# note that keys become column names\n",
    "dictionary = {'col': [1, 2, 3], 'col2': np.arange(3), 'col3': pd.Series([2., 4., 6.])}\n",
    "df = pd.DataFrame(dictionary)\n",
    "print(df)"
   ]
  },
  {
   "cell_type": "code",
   "execution_count": null,
   "metadata": {
    "collapsed": true
   },
   "outputs": [],
   "source": [
    "# note that arrays should have equal length!\n",
    "dictionary = {'col': [1, 2], 'col2': np.arange(3)}\n",
    "df = pd.DataFrame(dictionary)"
   ]
  },
  {
   "cell_type": "code",
   "execution_count": 18,
   "metadata": {},
   "outputs": [
    {
     "name": "stdout",
     "output_type": "stream",
     "text": [
      "   col  col2  col3\n",
      "0    1     0   2.0\n",
      "1    2     1   4.0\n",
      "2    3     2   6.0\n",
      "   col  col2  col3\n",
      "a    1     0   NaN\n",
      "b    2     1   NaN\n",
      "c    3     2   NaN\n"
     ]
    }
   ],
   "source": [
    "# index can be set in DataFrames as well\n",
    "df = pd.DataFrame(dictionary, index = [0, 1, 2])\n",
    "print(df)   \n",
    "df = pd.DataFrame(dictionary, index = ['a', 'b', 'c'])\n",
    "print(df)    # note that col3 has values NaN as index does not match"
   ]
  },
  {
   "cell_type": "code",
   "execution_count": 19,
   "metadata": {},
   "outputs": [
    {
     "name": "stdout",
     "output_type": "stream",
     "text": [
      "   0  1  2\n",
      "0  1  2  3\n",
      "1  4  5  6\n"
     ]
    }
   ],
   "source": [
    "# creating df from 2-D array\n",
    "a = np.array([[1,2,3], [4,5,6]])\n",
    "df = pd.DataFrame(a)\n",
    "print(df)"
   ]
  },
  {
   "cell_type": "code",
   "execution_count": 20,
   "metadata": {},
   "outputs": [
    {
     "name": "stdout",
     "output_type": "stream",
     "text": [
      "   x  y  z\n",
      "a  1  2  3\n",
      "b  4  5  6\n"
     ]
    }
   ],
   "source": [
    "# creating df from 2-D array\n",
    "# index & column names can be deisgnated\n",
    "a = np.array([[1,2,3], [4,5,6]])\n",
    "df = pd.DataFrame(a, index = ['a', 'b'], columns = ['x', 'y', 'z'])\n",
    "print(df)"
   ]
  },
  {
   "cell_type": "code",
   "execution_count": 21,
   "metadata": {},
   "outputs": [
    {
     "name": "stdout",
     "output_type": "stream",
     "text": [
      "   a  b\n",
      "0  1  2\n",
      "1  3  4\n",
      "2  5  6\n"
     ]
    }
   ],
   "source": [
    "# creating df from list of dictionaries\n",
    "# note that keys become column names in df\n",
    "l = [{'a': 1, 'b': 2}, {'a': 3, 'b': 4}, {'a': 5, 'b': 6}]\n",
    "df = pd.DataFrame(l)\n",
    "print(df)"
   ]
  },
  {
   "cell_type": "code",
   "execution_count": 22,
   "metadata": {},
   "outputs": [
    {
     "name": "stdout",
     "output_type": "stream",
     "text": [
      "   a  b\n",
      "x  1  2\n",
      "y  3  4\n",
      "z  5  6\n"
     ]
    }
   ],
   "source": [
    "# creating df from list of dictionaries\n",
    "# index & column names can be deisgnated here as well\n",
    "l = [{'a': 1, 'b': 2}, {'a': 3, 'b': 4}, {'a': 5, 'b': 6}]\n",
    "df = pd.DataFrame(l, index = ['x', 'y', 'z'], columns = ['a', 'b'])\n",
    "print(df)"
   ]
  },
  {
   "cell_type": "markdown",
   "metadata": {},
   "source": [
    "### Column operations\n",
    "- It could be said that DataFrames are like set of series with column names attached to it\n",
    "- So with column names, each column can be manipulated\n",
    "    - Also note that as columns are basically series, their operations are *element-wise* as default"
   ]
  },
  {
   "cell_type": "code",
   "execution_count": 23,
   "metadata": {},
   "outputs": [
    {
     "name": "stdout",
     "output_type": "stream",
     "text": [
      "   float  int lower upper\n",
      "0    1.0    1     a     A\n",
      "1    2.0    2     b     B\n",
      "2    3.0    3     c     C\n",
      "3    4.0    4     d     D\n",
      "4    5.0    5     e     E\n"
     ]
    }
   ],
   "source": [
    "l1 = [1., 2., 3., 4., 5.]\n",
    "l2 = [1, 2, 3, 4, 5]\n",
    "l3 = ['a', 'b', 'c', 'd', 'e']\n",
    "l4 = ['A', 'B', 'C', 'D', 'E']\n",
    "df = pd.DataFrame({'float': l1, 'int': l2, 'lower': l3, 'upper': l4})\n",
    "print(df)"
   ]
  },
  {
   "cell_type": "code",
   "execution_count": 24,
   "metadata": {},
   "outputs": [
    {
     "name": "stdout",
     "output_type": "stream",
     "text": [
      "<class 'pandas.core.series.Series'>\n",
      "0    1.0\n",
      "1    2.0\n",
      "2    3.0\n",
      "3    4.0\n",
      "4    5.0\n",
      "Name: float, dtype: float64\n"
     ]
    }
   ],
   "source": [
    "# selecting single column\n",
    "c1 = df['float']\n",
    "print(type(c1))      # note that it is Series type\n",
    "print(c1)"
   ]
  },
  {
   "cell_type": "code",
   "execution_count": 25,
   "metadata": {},
   "outputs": [
    {
     "name": "stdout",
     "output_type": "stream",
     "text": [
      "<class 'pandas.core.frame.DataFrame'>\n",
      "   int lower\n",
      "0    1     a\n",
      "1    2     b\n",
      "2    3     c\n",
      "3    4     d\n",
      "4    5     e\n"
     ]
    }
   ],
   "source": [
    "# selecting multiple columns\n",
    "c23 = df[['int', 'lower']]\n",
    "print(type(c23))     # note that it is DataFrame type\n",
    "print(c23)"
   ]
  },
  {
   "cell_type": "code",
   "execution_count": 26,
   "metadata": {},
   "outputs": [
    {
     "name": "stdout",
     "output_type": "stream",
     "text": [
      "   float  int lower\n",
      "0    1.0    1     a\n",
      "1    2.0    2     b\n",
      "2    3.0    3     c\n",
      "3    4.0    4     d\n",
      "4    5.0    5     e\n"
     ]
    }
   ],
   "source": [
    "# deleting single column\n",
    "del df['upper']\n",
    "print(df)"
   ]
  },
  {
   "cell_type": "code",
   "execution_count": 27,
   "metadata": {},
   "outputs": [
    {
     "name": "stdout",
     "output_type": "stream",
     "text": [
      "   float  int lower upper\n",
      "0    1.0    1     a     A\n",
      "1    2.0    2     b     A\n",
      "2    3.0    3     c     A\n",
      "3    4.0    4     d     A\n",
      "4    5.0    5     e     A\n"
     ]
    }
   ],
   "source": [
    "# creating columns with single element\n",
    "df['upper'] = 'A'\n",
    "print(df)"
   ]
  },
  {
   "cell_type": "code",
   "execution_count": 28,
   "metadata": {},
   "outputs": [
    {
     "name": "stdout",
     "output_type": "stream",
     "text": [
      "   float  int lower upper\n",
      "0    1.0    1     a     A\n",
      "1    2.0    2     b     B\n",
      "2    3.0    3     c     C\n",
      "3    4.0    4     d     D\n",
      "4    5.0    5     e     E\n"
     ]
    }
   ],
   "source": [
    "# creating columns with list/array\n",
    "df['upper'] = ['A', 'B', 'C', 'D', 'E']\n",
    "print(df)"
   ]
  },
  {
   "cell_type": "code",
   "execution_count": 29,
   "metadata": {
    "scrolled": true
   },
   "outputs": [
    {
     "name": "stdout",
     "output_type": "stream",
     "text": [
      "float    float64\n",
      "int        int64\n",
      "lower     object\n",
      "upper     object\n",
      "dtype: object\n"
     ]
    }
   ],
   "source": [
    "# exhibiting dtypes of each columns\n",
    "print(df.dtypes)"
   ]
  },
  {
   "cell_type": "markdown",
   "metadata": {},
   "source": [
    "### Indexing & Slicing\n",
    "- Indexing and slicing are *row-wise* as default. In other words, they are based on *index*, not column names\n",
    "\n",
    "|Operation | Syntax | Result  |\n",
    "|----------|--------|---------|\n",
    "|Select row by label |\tdf.loc[label]| Series |\n",
    "|Select row by integer location\t| df.iloc[loc]\t| Series|\n",
    "|Slice rows\t| df[start_idx:last_idx] |\tDataFrame |\n",
    "|Select rows by boolean vector |\tdf[bool_vec]|\tDataFrame|"
   ]
  },
  {
   "cell_type": "code",
   "execution_count": 30,
   "metadata": {},
   "outputs": [
    {
     "name": "stdout",
     "output_type": "stream",
     "text": [
      "   col1      col2\n",
      "a   0.0  0.836176\n",
      "b   1.0  0.998377\n",
      "c   2.0  0.467166\n",
      "d   3.0  0.510646\n",
      "e   4.0  0.099334\n",
      "f   5.0  0.831982\n",
      "g   6.0  0.034774\n",
      "h   7.0  0.551889\n",
      "i   8.0  0.796765\n",
      "j   9.0  0.022302\n"
     ]
    }
   ],
   "source": [
    "# creating data\n",
    "a1 = np.arange(10, dtype = np.float32)\n",
    "a2 = np.random.random(10)\n",
    "a3 = ['a', 'b', 'c', 'd', 'e', 'f', 'g', 'h', 'i', 'j']\n",
    "\n",
    "df = pd.DataFrame({'col1': a1, 'col2': a2}, index = a3)\n",
    "print(df)"
   ]
  },
  {
   "cell_type": "code",
   "execution_count": 31,
   "metadata": {},
   "outputs": [
    {
     "name": "stdout",
     "output_type": "stream",
     "text": [
      "   col1      col2\n",
      "f   5.0  0.831982\n",
      "g   6.0  0.034774\n",
      "h   7.0  0.551889\n",
      "i   8.0  0.796765\n",
      "j   9.0  0.022302\n",
      "   col1      col2\n",
      "g   6.0  0.034774\n",
      "h   7.0  0.551889\n",
      "i   8.0  0.796765\n",
      "j   9.0  0.022302\n"
     ]
    }
   ],
   "source": [
    "# slicing rows\n",
    "df_ = df[5:]       # start from 6th row\n",
    "print(df_)\n",
    "df_ = df[-4:]      # start from 4th last row\n",
    "print(df_)"
   ]
  },
  {
   "cell_type": "code",
   "execution_count": 32,
   "metadata": {},
   "outputs": [
    {
     "name": "stdout",
     "output_type": "stream",
     "text": [
      "col1    0.000000\n",
      "col2    0.836176\n",
      "Name: a, dtype: float64\n",
      "   col1      col2\n",
      "a   0.0  0.836176\n",
      "b   1.0  0.998377\n",
      "c   2.0  0.467166\n"
     ]
    }
   ],
   "source": [
    "# selecting rows by index label\n",
    "print(df.loc['a'])       # note that result is series\n",
    "print(df.loc['a':'c'])   # note that result is df"
   ]
  },
  {
   "cell_type": "code",
   "execution_count": 33,
   "metadata": {},
   "outputs": [
    {
     "name": "stdout",
     "output_type": "stream",
     "text": [
      "col1    0.000000\n",
      "col2    0.836176\n",
      "Name: a, dtype: float64\n",
      "   col1      col2\n",
      "c   2.0  0.467166\n",
      "d   3.0  0.510646\n"
     ]
    }
   ],
   "source": [
    "# selecting rows by index location\n",
    "print(df.iloc[0])        # note that result is series \n",
    "print(df.iloc[2:4])      # note that result is df"
   ]
  },
  {
   "cell_type": "code",
   "execution_count": 34,
   "metadata": {},
   "outputs": [
    {
     "name": "stdout",
     "output_type": "stream",
     "text": [
      "0.0\n",
      "0.998376972548\n"
     ]
    }
   ],
   "source": [
    "# getting a scalar value\n",
    "print(df.iloc[0, 0])       # first element in first row\n",
    "print(df.iloc[1, 1])       # second element in second row"
   ]
  },
  {
   "cell_type": "markdown",
   "metadata": {},
   "source": [
    "### Viewing DataFrame\n",
    "- When DataFrame is too large, one can view only certain number of row using ```head()``` or ```tail()```"
   ]
  },
  {
   "cell_type": "code",
   "execution_count": 36,
   "metadata": {},
   "outputs": [
    {
     "name": "stdout",
     "output_type": "stream",
     "text": [
      "(1000, 2)\n"
     ]
    }
   ],
   "source": [
    "# One can get shape of df like in NumPy array\n",
    "a1 = np.arange(1000)\n",
    "a2 = np.arange(1000, 0, -1)\n",
    "df = pd.DataFrame({'col1': a1, 'col2': a2})\n",
    "print(df.shape)    # so we have 1000 rows and 2 columns"
   ]
  },
  {
   "cell_type": "code",
   "execution_count": 37,
   "metadata": {},
   "outputs": [
    {
     "name": "stdout",
     "output_type": "stream",
     "text": [
      "   col1  col2\n",
      "0     0  1000\n",
      "1     1   999\n",
      "2     2   998\n",
      "3     3   997\n",
      "4     4   996\n",
      "     col1  col2\n",
      "995   995     5\n",
      "996   996     4\n",
      "997   997     3\n",
      "998   998     2\n",
      "999   999     1\n"
     ]
    }
   ],
   "source": [
    "# print only first & last 5 rows\n",
    "print(df.head())\n",
    "print(df.tail())"
   ]
  },
  {
   "cell_type": "code",
   "execution_count": 38,
   "metadata": {},
   "outputs": [
    {
     "name": "stdout",
     "output_type": "stream",
     "text": [
      "   col1  col2\n",
      "0     0  1000\n",
      "1     1   999\n",
      "2     2   998\n",
      "     col1  col2\n",
      "997   997     3\n",
      "998   998     2\n",
      "999   999     1\n"
     ]
    }
   ],
   "source": [
    "# print only first & last 3 rows\n",
    "print(df.head(3))\n",
    "print(df.tail(3))"
   ]
  },
  {
   "cell_type": "markdown",
   "metadata": {},
   "source": [
    "### DataFrames and arrays\n",
    "- Like series, DataFrames are interoperatable with NumPy arrays\n",
    "- Also, most functions for NumPy arrays can be applied to DataFrames"
   ]
  },
  {
   "cell_type": "code",
   "execution_count": 39,
   "metadata": {},
   "outputs": [
    {
     "name": "stdout",
     "output_type": "stream",
     "text": [
      "          A         B         C\n",
      "0  0.916240  0.323132  0.948865\n",
      "1  0.039777  0.360001  0.381617\n",
      "2  0.161079  0.326806  0.292763\n",
      "3  0.627715  0.588707  0.097837\n",
      "4  0.149464  0.081961  0.617773\n",
      "5  0.755806  0.328113  0.002934\n",
      "6  0.705548  0.978438  0.032138\n",
      "7  0.747693  0.646978  0.356087\n",
      "8  0.267015  0.022962  0.124409\n",
      "9  0.547409  0.256276  0.584715\n"
     ]
    }
   ],
   "source": [
    "a1 = np.random.random(10)\n",
    "a2 = np.random.random(10)\n",
    "a3 = np.random.random(10)\n",
    "\n",
    "df = pd.DataFrame({'A': a1, 'B': a2, 'C': a3})\n",
    "print(df)"
   ]
  },
  {
   "cell_type": "code",
   "execution_count": 40,
   "metadata": {},
   "outputs": [
    {
     "name": "stdout",
     "output_type": "stream",
     "text": [
      "          0         1         2         3         4         5         6  \\\n",
      "A  0.916240  0.039777  0.161079  0.627715  0.149464  0.755806  0.705548   \n",
      "B  0.323132  0.360001  0.326806  0.588707  0.081961  0.328113  0.978438   \n",
      "C  0.948865  0.381617  0.292763  0.097837  0.617773  0.002934  0.032138   \n",
      "\n",
      "          7         8         9  \n",
      "A  0.747693  0.267015  0.547409  \n",
      "B  0.646978  0.022962  0.256276  \n",
      "C  0.356087  0.124409  0.584715  \n"
     ]
    }
   ],
   "source": [
    "# transposing df\n",
    "df_transposed = df.transpose()\n",
    "print(df_transposed)       # rows & columns are reversed"
   ]
  },
  {
   "cell_type": "code",
   "execution_count": 41,
   "metadata": {},
   "outputs": [
    {
     "name": "stdout",
     "output_type": "stream",
     "text": [
      "          A         B         C\n",
      "0  2.499873  1.381447  2.582777\n",
      "1  1.040579  1.433330  1.464651\n",
      "2  1.174778  1.386533  1.340125\n",
      "3  1.873325  1.801657  1.102783\n",
      "4  1.161211  1.085414  1.854793\n",
      "5  2.129328  1.388346  1.002938\n",
      "6  2.024956  2.660299  1.032660\n",
      "7  2.112121  1.909761  1.427732\n",
      "8  1.306061  1.023227  1.132479\n",
      "9  1.728769  1.292110  1.794479\n",
      "[[ 3.28242927  2.31330297  1.72990755]\n",
      " [ 2.31330297  2.24389517  1.0633914 ]\n",
      " [ 1.72990755  1.0633914   2.00811071]]\n"
     ]
    }
   ],
   "source": [
    "# applying mathematical function on df\n",
    "df_exp = np.exp(df)\n",
    "print(df_exp)\n",
    "df_dot = np.dot(df_transposed, df)\n",
    "print(df_dot)"
   ]
  },
  {
   "cell_type": "code",
   "execution_count": 42,
   "metadata": {},
   "outputs": [
    {
     "name": "stdout",
     "output_type": "stream",
     "text": [
      "<class 'numpy.ndarray'>\n",
      "(10, 3)\n"
     ]
    }
   ],
   "source": [
    "# converting df into 2-D array\n",
    "df_as_array = df.values\n",
    "print(type(df_as_array))\n",
    "print(df_as_array.shape)"
   ]
  },
  {
   "cell_type": "markdown",
   "metadata": {},
   "source": [
    "### Exercise 1-2.\n",
    "- Create Pandas DataFrame consisted of three columns ```\"X\", \"Y\", and \"Z\"```\n",
    "    - ```X column```: integers 1 from 50\n",
    "    - ```Y column```: all zeros\n",
    "    - ```Z column```: all ones\n",
    "- Double elements ```X column```, so multiply each element by 2\n",
    "- Swap elements in ```Y column``` and ```Z column```\n",
    "    - So make ```Y column``` all ones, and ```Z column``` all zeros\n",
    "- Print first ten elements in DataFrame"
   ]
  },
  {
   "cell_type": "code",
   "execution_count": null,
   "metadata": {
    "collapsed": true
   },
   "outputs": [],
   "source": [
    "## Your answer"
   ]
  },
  {
   "cell_type": "markdown",
   "metadata": {},
   "source": [
    "### Exercise 1-3.\n",
    "- Create Pandas DataFrame consisted of four columns ```\"A\", \"B\", \"C\", and \"D\"```\n",
    "    - ```A column```: integers 0 from 9\n",
    "    - ```B column```: integers 10 from 19\n",
    "    - ```C column```: integers 20 from 29\n",
    "    - ```D column```: integers 30 from 39\n",
    "    - ```Index```: integers 40 to 49\n",
    "- Using ```iloc()```, select and print rows with index 45 to 47\n",
    "- Using ```loc()```, select and print last 3 rows"
   ]
  },
  {
   "cell_type": "code",
   "execution_count": null,
   "metadata": {
    "collapsed": true
   },
   "outputs": [],
   "source": [
    "## Your answer"
   ]
  }
 ],
 "metadata": {
  "kernelspec": {
   "display_name": "Python 3",
   "language": "python",
   "name": "python3"
  },
  "language_info": {
   "codemirror_mode": {
    "name": "ipython",
    "version": 3
   },
   "file_extension": ".py",
   "mimetype": "text/x-python",
   "name": "python",
   "nbconvert_exporter": "python",
   "pygments_lexer": "ipython3",
   "version": "3.7.1"
  }
 },
 "nbformat": 4,
 "nbformat_minor": 2
}
